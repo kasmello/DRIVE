{
 "cells": [
  {
   "cell_type": "markdown",
   "metadata": {},
   "source": [
    "This is the notebook used to train and load the PPO RL agent for this parking problem\n",
    "\n",
    "First we will load the packages, and import the environment"
   ]
  },
  {
   "cell_type": "code",
   "execution_count": 4,
   "metadata": {},
   "outputs": [],
   "source": [
    "import sys\n",
    "import gymnasium\n",
    "sys.modules[\"gym\"] = gymnasium\n",
    "from stable_baselines3 import PPO\n",
    "from wandb.integration.sb3 import WandbCallback\n",
    "from stable_baselines3.common.monitor import Monitor\n",
    "from stable_baselines3.common.vec_env import VecNormalize, DummyVecEnv, VecVideoRecorder\n",
    "from stable_baselines3.common import results_plotter\n",
    "from stable_baselines3.common.callbacks import EvalCallback, StopTrainingOnNoModelImprovement\n",
    "from environment import CarParking"
   ]
  },
  {
   "cell_type": "markdown",
   "metadata": {},
   "source": [
    "Then we establish the callback functions and the model used, which is the Proximal Policy Algorithm. Designed by OpenAI, it has proven to be very successful in various reinforcement learning problems, from controlling robots to playing complicated video games such as DOTA 2. It is a model-free, policy gradient reinforcement learning method. It can be considered an evolution from the traditional actor-critic model by making improvements in sample stability and stability. The name ‘proximal’ is due to the algorithm enforcing a constraint on the new policies learnt, ensuring that they are similar to the old policy, stabilising the learning process.\n"
   ]
  },
  {
   "cell_type": "code",
   "execution_count": 5,
   "metadata": {},
   "outputs": [
    {
     "data": {
      "text/plain": [
       "array([[ 0.        ,  0.        ,  0.00999938,  0.00999989,  0.00999999,\n",
       "         0.        ,  0.        , -0.01      , -0.00999999,  0.        ]],\n",
       "      dtype=float32)"
      ]
     },
     "execution_count": 5,
     "metadata": {},
     "output_type": "execute_result"
    }
   ],
   "source": [
    "env = CarParking(60, 10_000) #creating an instance of the environment to run at 60fps with a maximum of 1000 timesteps per episode\n",
    "env = Monitor(env, \"./logs/\") #will log results\n",
    "env = DummyVecEnv([lambda:env]) #vectorising environment so it can be used with other wrappers\n",
    "env = VecNormalize(env, norm_obs=True, norm_reward=True, clip_obs=10.0, clip_reward=10.0, gamma=0.9)\n",
    "env.reset()\n",
    "# env = VecVideoRecorder(\n",
    "#     env,\n",
    "#     f\"videos/{run.id}\",\n",
    "#     record_video_trigger=lambda x: x % 2000 == 0,\n",
    "#     video_length=25_000,\n",
    "# )\n"
   ]
  },
  {
   "cell_type": "code",
   "execution_count": 6,
   "metadata": {},
   "outputs": [],
   "source": [
    "config = {\n",
    "    \"policy_type\": \"MlpPolicy\",\n",
    "    \"total_timesteps\": 2_000_000,\n",
    "    \"env_name\": \"CartPole-v1\",\n",
    "}"
   ]
  },
  {
   "cell_type": "code",
   "execution_count": 7,
   "metadata": {},
   "outputs": [
    {
     "name": "stdout",
     "output_type": "stream",
     "text": [
      "Using cpu device\n"
     ]
    }
   ],
   "source": [
    "\n",
    "stop_train_callback = StopTrainingOnNoModelImprovement(max_no_improvement_evals=3, min_evals=20, verbose=1) #stops the training when no improvement is detected\n",
    "eval_callback = EvalCallback(env, best_model_save_path=\"./logs/\",\n",
    "                             log_path=\"./logs/\", eval_freq=10_000,\n",
    "                             deterministic=True, render=False, verbose=1, callback_after_eval=stop_train_callback) #evaluates the agent every 5000 timesteps and saves the results in the log folder\n",
    "\n",
    "model = PPO(\"MlpPolicy\", env, verbose=1, batch_size=64, learning_rate=0.0001) #defining the PPO policy"
   ]
  },
  {
   "cell_type": "markdown",
   "metadata": {},
   "source": [
    "In the above code, we are creating an instance of the environment to run at 60fps with a maximum of 1000 timesteps per episode. In addition we are using 2 callback functions: one to evaluate the performance of the agent every 5000 timesteps *(EvalCallback)* and the other to stop the training early if results do not improve *(StopTrainingOnNoModelImprovement)*. These are important as they allow for the monitoring of agent training and avoidance of redundant training.\n",
    "\n",
    "Now, we will start training the model."
   ]
  },
  {
   "cell_type": "code",
   "execution_count": 8,
   "metadata": {},
   "outputs": [
    {
     "data": {
      "application/vnd.jupyter.widget-view+json": {
       "model_id": "67e4b6317360464a9527fbfc5770703f",
       "version_major": 2,
       "version_minor": 0
      },
      "text/plain": [
       "Output()"
      ]
     },
     "metadata": {},
     "output_type": "display_data"
    },
    {
     "name": "stdout",
     "output_type": "stream",
     "text": [
      "---------------------------------\n",
      "| rollout/           |          |\n",
      "|    ep_len_mean     | 69.2     |\n",
      "|    ep_rew_mean     | -822     |\n",
      "| time/              |          |\n",
      "|    fps             | 60       |\n",
      "|    iterations      | 1        |\n",
      "|    time_elapsed    | 33       |\n",
      "|    total_timesteps | 2048     |\n",
      "---------------------------------\n"
     ]
    },
    {
     "name": "stdout",
     "output_type": "stream",
     "text": [
      "------------------------------------------\n",
      "| rollout/                |              |\n",
      "|    ep_len_mean          | 69.2         |\n",
      "|    ep_rew_mean          | -822         |\n",
      "| time/                   |              |\n",
      "|    fps                  | 59           |\n",
      "|    iterations           | 2            |\n",
      "|    time_elapsed         | 68           |\n",
      "|    total_timesteps      | 4096         |\n",
      "| train/                  |              |\n",
      "|    approx_kl            | 0.0044711493 |\n",
      "|    clip_fraction        | 0.0103       |\n",
      "|    clip_range           | 0.2          |\n",
      "|    entropy_loss         | -2.2         |\n",
      "|    explained_variance   | -0.0159      |\n",
      "|    learning_rate        | 0.0001       |\n",
      "|    loss                 | 3.89         |\n",
      "|    n_updates            | 10           |\n",
      "|    policy_gradient_loss | -0.0092      |\n",
      "|    value_loss           | 11.7         |\n",
      "------------------------------------------\n"
     ]
    },
    {
     "name": "stdout",
     "output_type": "stream",
     "text": [
      "-----------------------------------------\n",
      "| rollout/                |             |\n",
      "|    ep_len_mean          | 173         |\n",
      "|    ep_rew_mean          | -1.58e+03   |\n",
      "| time/                   |             |\n",
      "|    fps                  | 59          |\n",
      "|    iterations           | 3           |\n",
      "|    time_elapsed         | 103         |\n",
      "|    total_timesteps      | 6144        |\n",
      "| train/                  |             |\n",
      "|    approx_kl            | 0.017764071 |\n",
      "|    clip_fraction        | 0.24        |\n",
      "|    clip_range           | 0.2         |\n",
      "|    entropy_loss         | -2.16       |\n",
      "|    explained_variance   | 0.0322      |\n",
      "|    learning_rate        | 0.0001      |\n",
      "|    loss                 | 0.643       |\n",
      "|    n_updates            | 20          |\n",
      "|    policy_gradient_loss | -0.0221     |\n",
      "|    value_loss           | 3.55        |\n",
      "-----------------------------------------\n"
     ]
    },
    {
     "name": "stdout",
     "output_type": "stream",
     "text": [
      "------------------------------------------\n",
      "| rollout/                |              |\n",
      "|    ep_len_mean          | 203          |\n",
      "|    ep_rew_mean          | -1.88e+03    |\n",
      "| time/                   |              |\n",
      "|    fps                  | 58           |\n",
      "|    iterations           | 4            |\n",
      "|    time_elapsed         | 138          |\n",
      "|    total_timesteps      | 8192         |\n",
      "| train/                  |              |\n",
      "|    approx_kl            | 0.0068325484 |\n",
      "|    clip_fraction        | 0.0133       |\n",
      "|    clip_range           | 0.2          |\n",
      "|    entropy_loss         | -2.18        |\n",
      "|    explained_variance   | 0.441        |\n",
      "|    learning_rate        | 0.0001       |\n",
      "|    loss                 | 0.833        |\n",
      "|    n_updates            | 30           |\n",
      "|    policy_gradient_loss | -0.00923     |\n",
      "|    value_loss           | 3.48         |\n",
      "------------------------------------------\n"
     ]
    },
    {
     "data": {
      "text/html": [
       "<pre style=\"white-space:pre;overflow-x:auto;line-height:normal;font-family:Menlo,'DejaVu Sans Mono',consolas,'Courier New',monospace\">Eval num_timesteps=10000, episode_reward=-233.05 +/- 0.00\n",
       "</pre>\n"
      ],
      "text/plain": [
       "Eval num_timesteps=10000, episode_reward=-233.05 +/- 0.00\n"
      ]
     },
     "metadata": {},
     "output_type": "display_data"
    },
    {
     "data": {
      "text/html": [
       "<pre style=\"white-space:pre;overflow-x:auto;line-height:normal;font-family:Menlo,'DejaVu Sans Mono',consolas,'Courier New',monospace\">Episode length: 10.00 +/- 0.00\n",
       "</pre>\n"
      ],
      "text/plain": [
       "Episode length: 10.00 +/- 0.00\n"
      ]
     },
     "metadata": {},
     "output_type": "display_data"
    },
    {
     "name": "stdout",
     "output_type": "stream",
     "text": [
      "-----------------------------------------\n",
      "| eval/                   |             |\n",
      "|    mean_ep_length       | 10          |\n",
      "|    mean_reward          | -233        |\n",
      "| time/                   |             |\n",
      "|    total_timesteps      | 10000       |\n",
      "| train/                  |             |\n",
      "|    approx_kl            | 0.011991933 |\n",
      "|    clip_fraction        | 0.0894      |\n",
      "|    clip_range           | 0.2         |\n",
      "|    entropy_loss         | -2.18       |\n",
      "|    explained_variance   | 0.237       |\n",
      "|    learning_rate        | 0.0001      |\n",
      "|    loss                 | 0.815       |\n",
      "|    n_updates            | 40          |\n",
      "|    policy_gradient_loss | -0.0173     |\n",
      "|    value_loss           | 2.77        |\n",
      "-----------------------------------------\n"
     ]
    },
    {
     "data": {
      "text/html": [
       "<pre style=\"white-space:pre;overflow-x:auto;line-height:normal;font-family:Menlo,'DejaVu Sans Mono',consolas,'Courier New',monospace\">New best mean reward!\n",
       "</pre>\n"
      ],
      "text/plain": [
       "New best mean reward!\n"
      ]
     },
     "metadata": {},
     "output_type": "display_data"
    },
    {
     "name": "stdout",
     "output_type": "stream",
     "text": [
      "----------------------------------\n",
      "| rollout/           |           |\n",
      "|    ep_len_mean     | 252       |\n",
      "|    ep_rew_mean     | -2.23e+03 |\n",
      "| time/              |           |\n",
      "|    fps             | 58        |\n",
      "|    iterations      | 5         |\n",
      "|    time_elapsed    | 174       |\n",
      "|    total_timesteps | 10240     |\n",
      "----------------------------------\n"
     ]
    },
    {
     "name": "stdout",
     "output_type": "stream",
     "text": [
      "-----------------------------------------\n",
      "| rollout/                |             |\n",
      "|    ep_len_mean          | 257         |\n",
      "|    ep_rew_mean          | -2.2e+03    |\n",
      "| time/                   |             |\n",
      "|    fps                  | 58          |\n",
      "|    iterations           | 6           |\n",
      "|    time_elapsed         | 210         |\n",
      "|    total_timesteps      | 12288       |\n",
      "| train/                  |             |\n",
      "|    approx_kl            | 0.011017431 |\n",
      "|    clip_fraction        | 0.0672      |\n",
      "|    clip_range           | 0.2         |\n",
      "|    entropy_loss         | -2.13       |\n",
      "|    explained_variance   | 0.364       |\n",
      "|    learning_rate        | 0.0001      |\n",
      "|    loss                 | 0.49        |\n",
      "|    n_updates            | 50          |\n",
      "|    policy_gradient_loss | -0.0142     |\n",
      "|    value_loss           | 1.41        |\n",
      "-----------------------------------------\n"
     ]
    },
    {
     "name": "stdout",
     "output_type": "stream",
     "text": [
      "----------------------------------------\n",
      "| rollout/                |            |\n",
      "|    ep_len_mean          | 277        |\n",
      "|    ep_rew_mean          | -2.09e+03  |\n",
      "| time/                   |            |\n",
      "|    fps                  | 58         |\n",
      "|    iterations           | 7          |\n",
      "|    time_elapsed         | 245        |\n",
      "|    total_timesteps      | 14336      |\n",
      "| train/                  |            |\n",
      "|    approx_kl            | 0.00750049 |\n",
      "|    clip_fraction        | 0.0467     |\n",
      "|    clip_range           | 0.2        |\n",
      "|    entropy_loss         | -2.14      |\n",
      "|    explained_variance   | 0.611      |\n",
      "|    learning_rate        | 0.0001     |\n",
      "|    loss                 | 0.938      |\n",
      "|    n_updates            | 60         |\n",
      "|    policy_gradient_loss | -0.0117    |\n",
      "|    value_loss           | 3.05       |\n",
      "----------------------------------------\n"
     ]
    },
    {
     "name": "stdout",
     "output_type": "stream",
     "text": [
      "------------------------------------------\n",
      "| rollout/                |              |\n",
      "|    ep_len_mean          | 268          |\n",
      "|    ep_rew_mean          | -1.81e+03    |\n",
      "| time/                   |              |\n",
      "|    fps                  | 58           |\n",
      "|    iterations           | 8            |\n",
      "|    time_elapsed         | 280          |\n",
      "|    total_timesteps      | 16384        |\n",
      "| train/                  |              |\n",
      "|    approx_kl            | 0.0067173596 |\n",
      "|    clip_fraction        | 0.0275       |\n",
      "|    clip_range           | 0.2          |\n",
      "|    entropy_loss         | -2.09        |\n",
      "|    explained_variance   | 0.327        |\n",
      "|    learning_rate        | 0.0001       |\n",
      "|    loss                 | 3.3          |\n",
      "|    n_updates            | 70           |\n",
      "|    policy_gradient_loss | -0.0119      |\n",
      "|    value_loss           | 7.41         |\n",
      "------------------------------------------\n"
     ]
    },
    {
     "name": "stdout",
     "output_type": "stream",
     "text": [
      "-----------------------------------------\n",
      "| rollout/                |             |\n",
      "|    ep_len_mean          | 253         |\n",
      "|    ep_rew_mean          | -1.4e+03    |\n",
      "| time/                   |             |\n",
      "|    fps                  | 58          |\n",
      "|    iterations           | 9           |\n",
      "|    time_elapsed         | 315         |\n",
      "|    total_timesteps      | 18432       |\n",
      "| train/                  |             |\n",
      "|    approx_kl            | 0.008234413 |\n",
      "|    clip_fraction        | 0.0531      |\n",
      "|    clip_range           | 0.2         |\n",
      "|    entropy_loss         | -2.03       |\n",
      "|    explained_variance   | 0.366       |\n",
      "|    learning_rate        | 0.0001      |\n",
      "|    loss                 | 1.83        |\n",
      "|    n_updates            | 80          |\n",
      "|    policy_gradient_loss | -0.0152     |\n",
      "|    value_loss           | 5.61        |\n",
      "-----------------------------------------\n"
     ]
    },
    {
     "data": {
      "text/html": [
       "<pre style=\"white-space:pre;overflow-x:auto;line-height:normal;font-family:Menlo,'DejaVu Sans Mono',consolas,'Courier New',monospace\">Eval num_timesteps=20000, episode_reward=993.62 +/- 0.00\n",
       "</pre>\n"
      ],
      "text/plain": [
       "Eval num_timesteps=20000, episode_reward=993.62 +/- 0.00\n"
      ]
     },
     "metadata": {},
     "output_type": "display_data"
    },
    {
     "data": {
      "text/html": [
       "<pre style=\"white-space:pre;overflow-x:auto;line-height:normal;font-family:Menlo,'DejaVu Sans Mono',consolas,'Courier New',monospace\">Episode length: 56.00 +/- 0.00\n",
       "</pre>\n"
      ],
      "text/plain": [
       "Episode length: 56.00 +/- 0.00\n"
      ]
     },
     "metadata": {},
     "output_type": "display_data"
    },
    {
     "name": "stdout",
     "output_type": "stream",
     "text": [
      "------------------------------------------\n",
      "| eval/                   |              |\n",
      "|    mean_ep_length       | 56           |\n",
      "|    mean_reward          | 994          |\n",
      "| time/                   |              |\n",
      "|    total_timesteps      | 20000        |\n",
      "| train/                  |              |\n",
      "|    approx_kl            | 0.0076002153 |\n",
      "|    clip_fraction        | 0.0292       |\n",
      "|    clip_range           | 0.2          |\n",
      "|    entropy_loss         | -2           |\n",
      "|    explained_variance   | 0.48         |\n",
      "|    learning_rate        | 0.0001       |\n",
      "|    loss                 | 2.76         |\n",
      "|    n_updates            | 90           |\n",
      "|    policy_gradient_loss | -0.0111      |\n",
      "|    value_loss           | 9.92         |\n",
      "------------------------------------------\n"
     ]
    },
    {
     "data": {
      "text/html": [
       "<pre style=\"white-space:pre;overflow-x:auto;line-height:normal;font-family:Menlo,'DejaVu Sans Mono',consolas,'Courier New',monospace\">New best mean reward!\n",
       "</pre>\n"
      ],
      "text/plain": [
       "New best mean reward!\n"
      ]
     },
     "metadata": {},
     "output_type": "display_data"
    },
    {
     "name": "stdout",
     "output_type": "stream",
     "text": [
      "---------------------------------\n",
      "| rollout/           |          |\n",
      "|    ep_len_mean     | 243      |\n",
      "|    ep_rew_mean     | -994     |\n",
      "| time/              |          |\n",
      "|    fps             | 57       |\n",
      "|    iterations      | 10       |\n",
      "|    time_elapsed    | 355      |\n",
      "|    total_timesteps | 20480    |\n",
      "---------------------------------\n"
     ]
    },
    {
     "name": "stdout",
     "output_type": "stream",
     "text": [
      "-----------------------------------------\n",
      "| rollout/                |             |\n",
      "|    ep_len_mean          | 222         |\n",
      "|    ep_rew_mean          | -482        |\n",
      "| time/                   |             |\n",
      "|    fps                  | 57          |\n",
      "|    iterations           | 11          |\n",
      "|    time_elapsed         | 391         |\n",
      "|    total_timesteps      | 22528       |\n",
      "| train/                  |             |\n",
      "|    approx_kl            | 0.010059028 |\n",
      "|    clip_fraction        | 0.0756      |\n",
      "|    clip_range           | 0.2         |\n",
      "|    entropy_loss         | -1.94       |\n",
      "|    explained_variance   | 0.574       |\n",
      "|    learning_rate        | 0.0001      |\n",
      "|    loss                 | 4.25        |\n",
      "|    n_updates            | 100         |\n",
      "|    policy_gradient_loss | -0.0109     |\n",
      "|    value_loss           | 6.61        |\n",
      "-----------------------------------------\n"
     ]
    },
    {
     "name": "stdout",
     "output_type": "stream",
     "text": [
      "-----------------------------------------\n",
      "| rollout/                |             |\n",
      "|    ep_len_mean          | 226         |\n",
      "|    ep_rew_mean          | 158         |\n",
      "| time/                   |             |\n",
      "|    fps                  | 57          |\n",
      "|    iterations           | 12          |\n",
      "|    time_elapsed         | 426         |\n",
      "|    total_timesteps      | 24576       |\n",
      "| train/                  |             |\n",
      "|    approx_kl            | 0.009427331 |\n",
      "|    clip_fraction        | 0.0437      |\n",
      "|    clip_range           | 0.2         |\n",
      "|    entropy_loss         | -1.81       |\n",
      "|    explained_variance   | 0.624       |\n",
      "|    learning_rate        | 0.0001      |\n",
      "|    loss                 | 4.39        |\n",
      "|    n_updates            | 110         |\n",
      "|    policy_gradient_loss | -0.0095     |\n",
      "|    value_loss           | 6.97        |\n",
      "-----------------------------------------\n"
     ]
    },
    {
     "name": "stdout",
     "output_type": "stream",
     "text": [
      "------------------------------------------\n",
      "| rollout/                |              |\n",
      "|    ep_len_mean          | 136          |\n",
      "|    ep_rew_mean          | 1.47e+03     |\n",
      "| time/                   |              |\n",
      "|    fps                  | 57           |\n",
      "|    iterations           | 13           |\n",
      "|    time_elapsed         | 461          |\n",
      "|    total_timesteps      | 26624        |\n",
      "| train/                  |              |\n",
      "|    approx_kl            | 0.0048441216 |\n",
      "|    clip_fraction        | 0.0166       |\n",
      "|    clip_range           | 0.2          |\n",
      "|    entropy_loss         | -1.74        |\n",
      "|    explained_variance   | 0.529        |\n",
      "|    learning_rate        | 0.0001       |\n",
      "|    loss                 | 3.16         |\n",
      "|    n_updates            | 120          |\n",
      "|    policy_gradient_loss | -0.00614     |\n",
      "|    value_loss           | 7.77         |\n",
      "------------------------------------------\n"
     ]
    },
    {
     "name": "stdout",
     "output_type": "stream",
     "text": [
      "-----------------------------------------\n",
      "| rollout/                |             |\n",
      "|    ep_len_mean          | 94.2        |\n",
      "|    ep_rew_mean          | 2.16e+03    |\n",
      "| time/                   |             |\n",
      "|    fps                  | 57          |\n",
      "|    iterations           | 14          |\n",
      "|    time_elapsed         | 497         |\n",
      "|    total_timesteps      | 28672       |\n",
      "| train/                  |             |\n",
      "|    approx_kl            | 0.006310597 |\n",
      "|    clip_fraction        | 0.0332      |\n",
      "|    clip_range           | 0.2         |\n",
      "|    entropy_loss         | -1.69       |\n",
      "|    explained_variance   | 0.507       |\n",
      "|    learning_rate        | 0.0001      |\n",
      "|    loss                 | 1.33        |\n",
      "|    n_updates            | 130         |\n",
      "|    policy_gradient_loss | -0.00777    |\n",
      "|    value_loss           | 4.45        |\n",
      "-----------------------------------------\n"
     ]
    },
    {
     "data": {
      "text/html": [
       "<pre style=\"white-space:pre;overflow-x:auto;line-height:normal;font-family:Menlo,'DejaVu Sans Mono',consolas,'Courier New',monospace\">Eval num_timesteps=30000, episode_reward=934.85 +/- 0.00\n",
       "</pre>\n"
      ],
      "text/plain": [
       "Eval num_timesteps=30000, episode_reward=934.85 +/- 0.00\n"
      ]
     },
     "metadata": {},
     "output_type": "display_data"
    },
    {
     "data": {
      "text/html": [
       "<pre style=\"white-space:pre;overflow-x:auto;line-height:normal;font-family:Menlo,'DejaVu Sans Mono',consolas,'Courier New',monospace\">Episode length: 55.00 +/- 0.00\n",
       "</pre>\n"
      ],
      "text/plain": [
       "Episode length: 55.00 +/- 0.00\n"
      ]
     },
     "metadata": {},
     "output_type": "display_data"
    },
    {
     "name": "stdout",
     "output_type": "stream",
     "text": [
      "-----------------------------------------\n",
      "| eval/                   |             |\n",
      "|    mean_ep_length       | 55          |\n",
      "|    mean_reward          | 935         |\n",
      "| time/                   |             |\n",
      "|    total_timesteps      | 30000       |\n",
      "| train/                  |             |\n",
      "|    approx_kl            | 0.004819672 |\n",
      "|    clip_fraction        | 0.0159      |\n",
      "|    clip_range           | 0.2         |\n",
      "|    entropy_loss         | -1.55       |\n",
      "|    explained_variance   | 0.697       |\n",
      "|    learning_rate        | 0.0001      |\n",
      "|    loss                 | 0.756       |\n",
      "|    n_updates            | 140         |\n",
      "|    policy_gradient_loss | -0.00395    |\n",
      "|    value_loss           | 3.09        |\n",
      "-----------------------------------------\n"
     ]
    },
    {
     "name": "stdout",
     "output_type": "stream",
     "text": [
      "---------------------------------\n",
      "| rollout/           |          |\n",
      "|    ep_len_mean     | 75.3     |\n",
      "|    ep_rew_mean     | 2.23e+03 |\n",
      "| time/              |          |\n",
      "|    fps             | 57       |\n",
      "|    iterations      | 15       |\n",
      "|    time_elapsed    | 537      |\n",
      "|    total_timesteps | 30720    |\n",
      "---------------------------------\n"
     ]
    },
    {
     "name": "stdout",
     "output_type": "stream",
     "text": [
      "-----------------------------------------\n",
      "| rollout/                |             |\n",
      "|    ep_len_mean          | 74.4        |\n",
      "|    ep_rew_mean          | 2.42e+03    |\n",
      "| time/                   |             |\n",
      "|    fps                  | 57          |\n",
      "|    iterations           | 16          |\n",
      "|    time_elapsed         | 572         |\n",
      "|    total_timesteps      | 32768       |\n",
      "| train/                  |             |\n",
      "|    approx_kl            | 0.011689007 |\n",
      "|    clip_fraction        | 0.125       |\n",
      "|    clip_range           | 0.2         |\n",
      "|    entropy_loss         | -1.6        |\n",
      "|    explained_variance   | 0.742       |\n",
      "|    learning_rate        | 0.0001      |\n",
      "|    loss                 | 1.02        |\n",
      "|    n_updates            | 150         |\n",
      "|    policy_gradient_loss | -0.0137     |\n",
      "|    value_loss           | 3.08        |\n",
      "-----------------------------------------\n"
     ]
    },
    {
     "name": "stdout",
     "output_type": "stream",
     "text": [
      "-----------------------------------------\n",
      "| rollout/                |             |\n",
      "|    ep_len_mean          | 75.5        |\n",
      "|    ep_rew_mean          | 2.59e+03    |\n",
      "| time/                   |             |\n",
      "|    fps                  | 57          |\n",
      "|    iterations           | 17          |\n",
      "|    time_elapsed         | 607         |\n",
      "|    total_timesteps      | 34816       |\n",
      "| train/                  |             |\n",
      "|    approx_kl            | 0.010564785 |\n",
      "|    clip_fraction        | 0.0869      |\n",
      "|    clip_range           | 0.2         |\n",
      "|    entropy_loss         | -1.56       |\n",
      "|    explained_variance   | 0.82        |\n",
      "|    learning_rate        | 0.0001      |\n",
      "|    loss                 | 1.63        |\n",
      "|    n_updates            | 160         |\n",
      "|    policy_gradient_loss | -0.0108     |\n",
      "|    value_loss           | 2.43        |\n",
      "-----------------------------------------\n"
     ]
    },
    {
     "name": "stdout",
     "output_type": "stream",
     "text": [
      "-----------------------------------------\n",
      "| rollout/                |             |\n",
      "|    ep_len_mean          | 73.1        |\n",
      "|    ep_rew_mean          | 2.84e+03    |\n",
      "| time/                   |             |\n",
      "|    fps                  | 57          |\n",
      "|    iterations           | 18          |\n",
      "|    time_elapsed         | 642         |\n",
      "|    total_timesteps      | 36864       |\n",
      "| train/                  |             |\n",
      "|    approx_kl            | 0.009985131 |\n",
      "|    clip_fraction        | 0.0567      |\n",
      "|    clip_range           | 0.2         |\n",
      "|    entropy_loss         | -1.54       |\n",
      "|    explained_variance   | 0.871       |\n",
      "|    learning_rate        | 0.0001      |\n",
      "|    loss                 | 0.545       |\n",
      "|    n_updates            | 170         |\n",
      "|    policy_gradient_loss | -0.0102     |\n",
      "|    value_loss           | 1.61        |\n",
      "-----------------------------------------\n"
     ]
    }
   ],
   "source": [
    "# model.learn(total_timesteps=2_000_000, progress_bar=True, callback=WandbCallback())\n",
    "model.learn(total_timesteps=2_000_000, progress_bar=True, callback=eval_callback)"
   ]
  },
  {
   "cell_type": "markdown",
   "metadata": {},
   "source": [
    "In the code block above, the model is learning for up to 2 million steps. However, the callback function provided by Stable Baseline3 will start evaluating after 5 evaluations (25,000 steps) if the model is improving or not. If the model does not improve after 3 evaluations, the model will stop learning."
   ]
  },
  {
   "cell_type": "code",
   "execution_count": 6,
   "metadata": {},
   "outputs": [
    {
     "data": {
      "image/png": "[encoded data removed]",
      "text/plain": [
       "<Figure size 800x200 with 1 Axes>"
      ]
     },
     "metadata": {},
     "output_type": "display_data"
    }
   ],
   "source": [
    "results_plotter.plot_results(\n",
    "    ['./logs/'], 2_000_000, results_plotter.X_TIMESTEPS, \"Parking Agent\"\n",
    ")"
   ]
  },
  {
   "cell_type": "markdown",
   "metadata": {},
   "source": [
    "Here are the results"
   ]
  },
  {
   "cell_type": "markdown",
   "metadata": {},
   "source": [
    "Now, let's load the finished model and run a test."
   ]
  },
  {
   "cell_type": "code",
   "execution_count": 9,
   "metadata": {},
   "outputs": [
    {
     "name": "stdout",
     "output_type": "stream",
     "text": [
      "Wrapping the env in a DummyVecEnv.\n",
      "SCORE: -935.6350143556754\n"
     ]
    }
   ],
   "source": [
    "\n",
    "model = PPO.load(\"./logs/best_model\", env=env)\n",
    "obs, _states = env.reset()\n",
    "env.render()\n",
    "terminated = False\n",
    "truncated = False\n",
    "action = 1\n",
    "score = 0\n",
    "while not (terminated or truncated):\n",
    "    action, _states = model.predict(obs)\n",
    "    state, reward, terminated, truncated, info = env.step(action)\n",
    "    score += reward\n",
    "print(f\"SCORE: {score}\")\n",
    "\n",
    "    \n",
    "\n"
   ]
  },
  {
   "cell_type": "markdown",
   "metadata": {},
   "source": [
    "To see a visual demonstration of the test, run the following:\n",
    "*python environment.py model*"
   ]
  }
 ],
 "metadata": {
  "kernelspec": {
   "display_name": "Python 3",
   "language": "python",
   "name": "python3"
  },
  "language_info": {
   "codemirror_mode": {
    "name": "ipython",
    "version": 3
   },
   "file_extension": ".py",
   "mimetype": "text/x-python",
   "name": "python",
   "nbconvert_exporter": "python",
   "pygments_lexer": "ipython3",
   "version": "3.11.3"
  }
 },
 "nbformat": 4,
 "nbformat_minor": 2
}
